{
 "cells": [
  {
   "cell_type": "markdown",
   "metadata": {},
   "source": [
    "# Game of Life"
   ]
  },
  {
   "cell_type": "code",
   "execution_count": null,
   "metadata": {},
   "outputs": [],
   "source": [
    "import numpy as np\n",
    "#def gol_update(X):\n",
    "    \"\"\"Game of life step using scipy tools\"\"\"\n",
    "    from scipy.signal import convolve2d\n",
    "    nbrs_count = convolve2d(X, np.ones((3, 3)), mode='same', boundary='fill') - X\n",
    "    return (nbrs_count == 3) | (X & (nbrs_count == 2))\n",
    "\n",
    "#def make_move(field, moves=1):\n",
    "    \"\"\"\n",
    "    Make a move forward according to Game of Life rules\n",
    "    \"\"\"\n",
    "    for i in range(moves):\n",
    "      field=gol_update(field)\n",
    "    return field"
   ]
  },
  {
   "cell_type": "markdown",
   "metadata": {},
   "source": [
    "# Genetic Algorithm "
   ]
  },
  {
   "cell_type": "code",
   "execution_count": 3,
   "metadata": {},
   "outputs": [
    {
     "ename": "IndentationError",
     "evalue": "unexpected indent (<ipython-input-3-7bf35d3c3d8b>, line 2)",
     "output_type": "error",
     "traceback": [
      "\u001b[1;36m  File \u001b[1;32m\"<ipython-input-3-7bf35d3c3d8b>\"\u001b[1;36m, line \u001b[1;32m2\u001b[0m\n\u001b[1;33m    \"\"\"\u001b[0m\n\u001b[1;37m    ^\u001b[0m\n\u001b[1;31mIndentationError\u001b[0m\u001b[1;31m:\u001b[0m unexpected indent\n"
     ]
    }
   ],
   "source": [
    "#def generate_population(size,r=5,c=5, random_state=-1):\n",
    "    \"\"\"\n",
    "    Generating initial population of individual solutions\n",
    "    :return: initial population as a list of set dimension arrays\n",
    "    \"\"\"\n",
    "    if random_state != -1:\n",
    "        np.random.seed(random_state)\n",
    "    initial_states = np.split(np.random.binomial(1, 0.5, (r * size, c)).astype('uint8'), size)\n",
    "    return initial_states"
   ]
  },
  {
   "cell_type": "code",
   "execution_count": null,
   "metadata": {},
   "outputs": [],
   "source": [
    "#def fitness(start_field, end_field, delta):\n",
    "    \"\"\"\n",
    "    Calculate fitness for particular candidate (start configuration of the field)\n",
    "\n",
    "    \"\"\"\n",
    "    candidate = make_move(start_field, moves=delta)\n",
    "    return (candidate == end_field).sum() / len(end_field)/len(end_field[0])\n",
    "\n",
    "#def score_population(population, target, delta):\n",
    "    \"\"\"\n",
    "    Apply fitness function for each gene in a population\n",
    "\n",
    "    return [fitness(gene, target, delta) for gene in population]"
   ]
  },
  {
   "cell_type": "code",
   "execution_count": null,
   "metadata": {},
   "outputs": [],
   "source": [
    "#def selection(population, scores, retain_frac=0.85, retain_random=0.05):\n",
    "    \"\"\"\n",
    "    Apply selection operator to the population\n",
    "    \"\"\"\n",
    "    retain_len = int(len(scores) * retain_frac)\n",
    "    sorted_indices = np.argsort(scores)[::-1]\n",
    "    population = [population[idx] for idx in sorted_indices]\n",
    "    selected = population[:retain_len]\n",
    "    leftovers = population[retain_len:]\n",
    "    \n",
    "    for gene in leftovers:\n",
    "        if np.random.rand() < retain_random:\n",
    "            selected.append(gene)     \n",
    "    return selected"
   ]
  },
  {
   "cell_type": "code",
   "execution_count": null,
   "metadata": {},
   "outputs": [],
   "source": [
    "#def mutate(field, switch_frac=1):\n",
    "    \"\"\" Inplace mutation of the provided field \"\"\"\n",
    "    a = np.random.binomial(1, switch_frac, size=(len(field), len(field[0]))).astype('bool')\n",
    "    field[a] += 1\n",
    "    field[a] %= 2\n",
    "    return field"
   ]
  },
  {
   "cell_type": "code",
   "execution_count": null,
   "metadata": {},
   "outputs": [],
   "source": [
    "#def crossover(mom, dad):\n",
    "    \"\"\" Take two parents, return two children, interchanging half of the allels of each parent randomly \"\"\"\n",
    "    select_mask = np.random.binomial(1, 0.5, size=(len(mom), len(mom[0]))).astype('bool')\n",
    "    child1, child2 = np.copy(mom), np.copy(dad)\n",
    "    child1[select_mask] = dad[select_mask]\n",
    "    child2[select_mask] = mom[select_mask]\n",
    "    return child1, child2"
   ]
  },
  {
   "cell_type": "code",
   "execution_count": null,
   "metadata": {},
   "outputs": [],
   "source": [
    "#def evolve(population, target, delta, retain_frac=0.75, retain_random=0.05, mutate_chance=0.05,mutate_switch_frac=1,immigrants=0):\n",
    "    \"\"\"\n",
    "    Evolution step\n",
    "    \"\"\"\n",
    "    scores = score_population(population, target, delta)\n",
    "    next_population = selection(population, scores, retain_frac=retain_frac, retain_random=retain_random)\n",
    "    \n",
    "    # mutate everyone expecting for the best candidate\n",
    "    for gene in next_population[1:]:\n",
    "        if np.random.rand() < mutate_chance:\n",
    "            mutate(gene,mutate_switch_frac)\n",
    " \n",
    "    places_left = len(population) - len(next_population)\n",
    "    children = []\n",
    "    parent_max_idx = len(next_population) - 1\n",
    "    while len(children) < places_left:\n",
    "        mom_idx, dad_idx = np.random.randint(0, parent_max_idx, 2)\n",
    "        if mom_idx != dad_idx:\n",
    "            child1, child2 = crossover(next_population[mom_idx], next_population[dad_idx])\n",
    "            children.append(child1)\n",
    "            if len(children) < places_left:\n",
    "                children.append(child2)\n",
    "    next_population.extend(children)\n",
    "\n",
    "    if immigrants>0:\n",
    "        next_population.extend(generate_population(int(immigrants*len(scores)),r=len(target),c=len(target[0])))   \n",
    "    return next_population"
   ]
  },
  {
   "cell_type": "code",
   "execution_count": null,
   "metadata": {},
   "outputs": [],
   "source": [
    "#def solve(target, delta,population_size=300, n_generations=700,random_state=-1):\n",
    "   \n",
    "    fitnessList=[]\n",
    "    bestPatternList=[]\n",
    "\n",
    "    # initialize population\n",
    "    population = generate_population(population_size,r=len(target),c=len(target[0]),random_state=random_state)\n",
    "    \n",
    "    # evolution\n",
    "    for generation in range(n_generations):\n",
    "        population = evolve(population, target, delta,mutate_chance=0.05,mutate_switch_frac=0.9)\n",
    "        \n",
    "        fitnessList.append(fitness(population[0], target, delta))\n",
    "        bestPatternList.append(population[0])\n",
    "\n",
    "        print(\"Generation \", generation, \", final best score: \", fitness(population[0], target, delta))\n",
    "    return (bestPatternList,fitnessList)"
   ]
  },
  {
   "cell_type": "markdown",
   "metadata": {},
   "source": [
    "# Visusal Display"
   ]
  },
  {
   "cell_type": "code",
   "execution_count": null,
   "metadata": {},
   "outputs": [],
   "source": [
    "import matplotlib.pyplot as plt\n",
    "from matplotlib import colors\n",
    "\n",
    "    figsize = (len(X) * 5. / dpi, len(X[0]) * 5. / dpi)\n",
    "    cmap = colors.ListedColormap(['white', 'black'])\n",
    "    fig, ax = plt.subplots(figsize=figsize)\n",
    "    im=ax.imshow(X, cmap=cmap)\n",
    "    \n",
    "    #set x and y ticks and labels\n",
    "    plt.xticks(range(len(X[0])), range(len(X[0])))\n",
    "    plt.yticks(range(len(X)), range(len(X)-1,-1,-1));\n",
    " \n",
    "    #set minor axes in between the labels\n",
    "    ax=plt.gca()\n",
    "    ax.set_xticks([x-0.5 for x in range(1,len(X[0]))],minor=True )\n",
    "    ax.set_yticks([y-0.5 for y in range(1,len(X))],minor=True)\n",
    "    #plot grid on minor axes\n",
    "    plt.grid(which=\"minor\",ls=\"-\",lw=2)\n",
    "    return ax"
   ]
  },
  {
   "cell_type": "code",
   "execution_count": null,
   "metadata": {},
   "outputs": [],
   "source": [
    "from matplotlib import animation\n",
    "from matplotlib import colors\n",
    "import matplotlib.pyplot as plt\n",
    "from IPython.display import HTML\n",
    "\n",
    "\n",
    " \n",
    "    X = np.asarray(Xs[0])\n",
    "    X = X.astype(bool)\n",
    "    X_blank = np.zeros_like(X)\n",
    "    \n",
    "    # figure config\n",
    "    figsize = (X.shape[0] * 5. / dpi, X.shape[1] * 5. / dpi)\n",
    "    cmap = colors.ListedColormap(['white', 'black'])\n",
    "    fig, ax = plt.subplots(figsize=figsize)\n",
    "    im=ax.imshow(X, cmap=cmap)\n",
    "    \n",
    "    #set x and y ticks and labels\n",
    "    plt.xticks(range(X.shape[1]), range(X.shape[1]))\n",
    "    plt.yticks(range(X.shape[0]), range(X.shape[0]-1,-1,-1));\n",
    " \n",
    "    #set minor axes in between the labels\n",
    "    ax=plt.gca()\n",
    "    ax.set_xticks([x-0.5 for x in range(1,X.shape[1])],minor=True )\n",
    "    ax.set_yticks([y-0.5 for y in range(1,X.shape[0])],minor=True)\n",
    "    ax.set_title(\"generation \"+str(gens[0]))\n",
    "    #plot grid on minor axes\n",
    "    plt.grid(which=\"minor\",ls=\"-\",lw=2)\n",
    " \n",
    "    # initialization function: plot the background of each frame\n",
    "    #def init():\n",
    "        im.set_data(X_blank)\n",
    " \n",
    "    # animation function.  This is called sequentially\n",
    "    #def animate(i):\n",
    "        im.set_data(make_move(animate.Xs[i], moves=delta))\n",
    "        ax.set_title(\"generation \"+str(gens[i]))\n",
    "        animate.X = Xs[i]\n",
    "    \n",
    "    animate.Xs = Xs\n",
    "    return animation.FuncAnimation(fig, animate, init_func=init,frames=frames, interval=interval)"
   ]
  },
  {
   "cell_type": "code",
   "execution_count": 1,
   "metadata": {},
   "outputs": [
    {
     "ename": "NameError",
     "evalue": "name 'display_pattern' is not defined",
     "output_type": "error",
     "traceback": [
      "\u001b[1;31m---------------------------------------------------------------------------\u001b[0m",
      "\u001b[1;31mNameError\u001b[0m                                 Traceback (most recent call last)",
      "\u001b[1;32m<ipython-input-1-f418afa6e1d8>\u001b[0m in \u001b[0;36m<module>\u001b[1;34m\u001b[0m\n\u001b[0;32m     14\u001b[0m \u001b[1;31m# target=make_move(target,20)\u001b[0m\u001b[1;33m\u001b[0m\u001b[1;33m\u001b[0m\u001b[1;33m\u001b[0m\u001b[0m\n\u001b[0;32m     15\u001b[0m \u001b[1;33m\u001b[0m\u001b[0m\n\u001b[1;32m---> 16\u001b[1;33m \u001b[0max\u001b[0m\u001b[1;33m=\u001b[0m\u001b[0mdisplay_pattern\u001b[0m\u001b[1;33m(\u001b[0m\u001b[0mtarget\u001b[0m\u001b[1;33m)\u001b[0m\u001b[1;33m\u001b[0m\u001b[1;33m\u001b[0m\u001b[0m\n\u001b[0m\u001b[0;32m     17\u001b[0m \u001b[0max\u001b[0m\u001b[1;33m.\u001b[0m\u001b[0mset_title\u001b[0m\u001b[1;33m(\u001b[0m\u001b[1;34m\"target\"\u001b[0m\u001b[1;33m)\u001b[0m\u001b[1;33m\u001b[0m\u001b[1;33m\u001b[0m\u001b[0m\n\u001b[0;32m     18\u001b[0m \u001b[1;33m\u001b[0m\u001b[0m\n",
      "\u001b[1;31mNameError\u001b[0m: name 'display_pattern' is not defined"
     ]
    }
   ],
   "source": [
    "target= [\n",
    "    [1,1,0,0,1,1,0,0,1,1],\n",
    "    [1,1,0,0,1,1,0,0,1,1],\n",
    "    [0,0,1,0,1,1,0,1,0,0],\n",
    "    [0,0,1,0,1,1,0,1,0,0],\n",
    "    [0,0,0,1,1,1,1,0,0,0],\n",
    "    [0,0,0,1,1,1,1,0,0,0],\n",
    "    [0,0,0,0,1,1,0,0,0,0],\n",
    "    [0,0,0,0,1,1,0,0,0,0],\n",
    "    [0,0,0,0,1,1,0,0,0,0],\n",
    "    [0,0,0,0,1,1,0,0,0,0],\n",
    "]\n",
    "delta=0\n",
    "# target=make_move(target,20)\n",
    "\n",
    "ax=display_pattern(target)\n",
    "ax.set_title(\"target\")\n",
    "\n",
    "result = solve(target, delta=delta, \n",
    "                  population_size=100,n_generations=3000,\n",
    "                   random_state=1)\n",
    "\n",
    "ax=display_pattern(make_move(result[0][-1],delta))\n",
    "ax.set_title(\"result\")\n"
   ]
  },
  {
   "cell_type": "code",
   "execution_count": null,
   "metadata": {},
   "outputs": [],
   "source": []
  }
 ],
 "metadata": {
  "kernelspec": {
   "display_name": "Python 3",
   "language": "python",
   "name": "python3"
  },
  "language_info": {
   "codemirror_mode": {
    "name": "ipython",
    "version": 3
   },
   "file_extension": ".py",
   "mimetype": "text/x-python",
   "name": "python",
   "nbconvert_exporter": "python",
   "pygments_lexer": "ipython3",
   "version": "3.8.3"
  }
 },
 "nbformat": 4,
 "nbformat_minor": 4
}
